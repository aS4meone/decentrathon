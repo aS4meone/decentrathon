{
 "cells": [
  {
   "cell_type": "code",
   "execution_count": 1,
   "id": "322b348b-a073-4721-b351-0df865daaf1c",
   "metadata": {
    "tags": []
   },
   "outputs": [
    {
     "name": "stdout",
     "output_type": "stream",
     "text": [
      "Requirement already satisfied: torch in /Users/s4meone/anaconda3/lib/python3.11/site-packages (2.3.0)\n",
      "Requirement already satisfied: torchvision in /Users/s4meone/anaconda3/lib/python3.11/site-packages (0.18.0)\n",
      "Requirement already satisfied: transformers in /Users/s4meone/anaconda3/lib/python3.11/site-packages (4.32.1)\n",
      "Requirement already satisfied: datasets in /Users/s4meone/anaconda3/lib/python3.11/site-packages (2.12.0)\n",
      "Requirement already satisfied: accelerate in /Users/s4meone/anaconda3/lib/python3.11/site-packages (0.30.1)\n",
      "Requirement already satisfied: filelock in /Users/s4meone/anaconda3/lib/python3.11/site-packages (from torch) (3.9.0)\n",
      "Requirement already satisfied: typing-extensions>=4.8.0 in /Users/s4meone/anaconda3/lib/python3.11/site-packages (from torch) (4.12.0)\n",
      "Requirement already satisfied: sympy in /Users/s4meone/anaconda3/lib/python3.11/site-packages (from torch) (1.11.1)\n",
      "Requirement already satisfied: networkx in /Users/s4meone/anaconda3/lib/python3.11/site-packages (from torch) (3.1)\n",
      "Requirement already satisfied: jinja2 in /Users/s4meone/anaconda3/lib/python3.11/site-packages (from torch) (2.11.2)\n",
      "Requirement already satisfied: fsspec in /Users/s4meone/anaconda3/lib/python3.11/site-packages (from torch) (2023.4.0)\n",
      "Requirement already satisfied: numpy in /Users/s4meone/anaconda3/lib/python3.11/site-packages (from torchvision) (1.24.3)\n",
      "Requirement already satisfied: pillow!=8.3.*,>=5.3.0 in /Users/s4meone/anaconda3/lib/python3.11/site-packages (from torchvision) (9.4.0)\n",
      "Requirement already satisfied: huggingface-hub<1.0,>=0.15.1 in /Users/s4meone/anaconda3/lib/python3.11/site-packages (from transformers) (0.15.1)\n",
      "Requirement already satisfied: packaging>=20.0 in /Users/s4meone/anaconda3/lib/python3.11/site-packages (from transformers) (23.1)\n",
      "Requirement already satisfied: pyyaml>=5.1 in /Users/s4meone/anaconda3/lib/python3.11/site-packages (from transformers) (6.0)\n",
      "Requirement already satisfied: regex!=2019.12.17 in /Users/s4meone/anaconda3/lib/python3.11/site-packages (from transformers) (2022.7.9)\n",
      "Requirement already satisfied: requests in /Users/s4meone/anaconda3/lib/python3.11/site-packages (from transformers) (2.31.0)\n",
      "Requirement already satisfied: tokenizers!=0.11.3,<0.14,>=0.11.1 in /Users/s4meone/anaconda3/lib/python3.11/site-packages (from transformers) (0.13.2)\n",
      "Requirement already satisfied: safetensors>=0.3.1 in /Users/s4meone/anaconda3/lib/python3.11/site-packages (from transformers) (0.3.2)\n",
      "Requirement already satisfied: tqdm>=4.27 in /Users/s4meone/anaconda3/lib/python3.11/site-packages (from transformers) (4.65.0)\n",
      "Requirement already satisfied: pyarrow>=8.0.0 in /Users/s4meone/anaconda3/lib/python3.11/site-packages (from datasets) (11.0.0)\n",
      "Requirement already satisfied: dill<0.3.7,>=0.3.0 in /Users/s4meone/anaconda3/lib/python3.11/site-packages (from datasets) (0.3.6)\n",
      "Requirement already satisfied: pandas in /Users/s4meone/anaconda3/lib/python3.11/site-packages (from datasets) (2.0.3)\n",
      "Requirement already satisfied: xxhash in /Users/s4meone/anaconda3/lib/python3.11/site-packages (from datasets) (2.0.2)\n",
      "Requirement already satisfied: multiprocess in /Users/s4meone/anaconda3/lib/python3.11/site-packages (from datasets) (0.70.14)\n",
      "Requirement already satisfied: aiohttp in /Users/s4meone/anaconda3/lib/python3.11/site-packages (from datasets) (3.8.5)\n",
      "Requirement already satisfied: responses<0.19 in /Users/s4meone/anaconda3/lib/python3.11/site-packages (from datasets) (0.13.3)\n",
      "Requirement already satisfied: psutil in /Users/s4meone/anaconda3/lib/python3.11/site-packages (from accelerate) (5.9.0)\n",
      "Requirement already satisfied: attrs>=17.3.0 in /Users/s4meone/anaconda3/lib/python3.11/site-packages (from aiohttp->datasets) (22.1.0)\n",
      "Requirement already satisfied: charset-normalizer<4.0,>=2.0 in /Users/s4meone/anaconda3/lib/python3.11/site-packages (from aiohttp->datasets) (2.0.4)\n",
      "Requirement already satisfied: multidict<7.0,>=4.5 in /Users/s4meone/anaconda3/lib/python3.11/site-packages (from aiohttp->datasets) (6.0.2)\n",
      "Requirement already satisfied: async-timeout<5.0,>=4.0.0a3 in /Users/s4meone/anaconda3/lib/python3.11/site-packages (from aiohttp->datasets) (4.0.3)\n",
      "Requirement already satisfied: yarl<2.0,>=1.0 in /Users/s4meone/anaconda3/lib/python3.11/site-packages (from aiohttp->datasets) (1.8.1)\n",
      "Requirement already satisfied: frozenlist>=1.1.1 in /Users/s4meone/anaconda3/lib/python3.11/site-packages (from aiohttp->datasets) (1.3.3)\n",
      "Requirement already satisfied: aiosignal>=1.1.2 in /Users/s4meone/anaconda3/lib/python3.11/site-packages (from aiohttp->datasets) (1.2.0)\n",
      "Requirement already satisfied: idna<4,>=2.5 in /Users/s4meone/anaconda3/lib/python3.11/site-packages (from requests->transformers) (3.4)\n",
      "Requirement already satisfied: urllib3<3,>=1.21.1 in /Users/s4meone/anaconda3/lib/python3.11/site-packages (from requests->transformers) (1.26.16)\n",
      "Requirement already satisfied: certifi>=2017.4.17 in /Users/s4meone/anaconda3/lib/python3.11/site-packages (from requests->transformers) (2023.7.22)\n",
      "Requirement already satisfied: six in /Users/s4meone/anaconda3/lib/python3.11/site-packages (from responses<0.19->datasets) (1.15.0)\n",
      "Requirement already satisfied: MarkupSafe>=0.23 in /Users/s4meone/anaconda3/lib/python3.11/site-packages (from jinja2->torch) (1.1.1)\n",
      "Requirement already satisfied: python-dateutil>=2.8.2 in /Users/s4meone/anaconda3/lib/python3.11/site-packages (from pandas->datasets) (2.9.0.post0)\n",
      "Requirement already satisfied: pytz>=2020.1 in /Users/s4meone/anaconda3/lib/python3.11/site-packages (from pandas->datasets) (2020.4)\n",
      "Requirement already satisfied: tzdata>=2022.1 in /Users/s4meone/anaconda3/lib/python3.11/site-packages (from pandas->datasets) (2023.3)\n",
      "Requirement already satisfied: mpmath>=0.19 in /Users/s4meone/anaconda3/lib/python3.11/site-packages (from sympy->torch) (1.3.0)\n"
     ]
    }
   ],
   "source": [
    "!pip install torch torchvision transformers datasets accelerate"
   ]
  },
  {
   "cell_type": "code",
   "execution_count": 2,
   "id": "5f11882f-c5d5-4a3f-83d6-a976526d2c09",
   "metadata": {
    "tags": []
   },
   "outputs": [
    {
     "name": "stdout",
     "output_type": "stream",
     "text": [
      "True\n",
      "True\n"
     ]
    }
   ],
   "source": [
    "import torch\n",
    "print(torch.backends.mps.is_available())\n",
    "print(torch.backends.mps.is_built())"
   ]
  },
  {
   "cell_type": "code",
   "execution_count": 3,
   "id": "8cbd9475-7e27-4ebb-8f32-4ac4c4aace2d",
   "metadata": {
    "tags": []
   },
   "outputs": [
    {
     "name": "stderr",
     "output_type": "stream",
     "text": [
      "/Users/s4meone/anaconda3/lib/python3.11/site-packages/transformers/utils/generic.py:260: UserWarning: torch.utils._pytree._register_pytree_node is deprecated. Please use torch.utils._pytree.register_pytree_node instead.\n",
      "  torch.utils._pytree._register_pytree_node(\n",
      "/Users/s4meone/anaconda3/lib/python3.11/site-packages/transformers/utils/generic.py:260: UserWarning: torch.utils._pytree._register_pytree_node is deprecated. Please use torch.utils._pytree.register_pytree_node instead.\n",
      "  torch.utils._pytree._register_pytree_node(\n"
     ]
    },
    {
     "name": "stdout",
     "output_type": "stream",
     "text": [
      "Загрузка данных...\n",
      "label2id: {'dislike': 0, 'like': 1, 'no': 2, 'ok': 3, 'peace': 4, 'one': 5, 'rock': 6, 'fist': 7, 'palm': 8}\n",
      "Загружено 26149 изображений\n",
      "Преобразование данных...\n",
      "Данные преобразованы\n",
      "Создание датасета...\n",
      "Датасет создан\n"
     ]
    }
   ],
   "source": [
    "import os\n",
    "import torch\n",
    "from transformers import ViTImageProcessor, ViTForImageClassification, Trainer, TrainingArguments\n",
    "from datasets import Dataset, load_metric\n",
    "from torchvision.transforms import Compose, Resize, CenterCrop, ToTensor, Normalize\n",
    "from PIL import Image as PILImage\n",
    "import numpy as np\n",
    "\n",
    "data_dir = '/Users/s4meone/PycharmProjects/gestures_ai/dataset'\n",
    "\n",
    "processor = ViTImageProcessor.from_pretrained('google/vit-base-patch16-224-in21k')\n",
    "\n",
    "def load_data(data_dir):\n",
    "    data = {\"image\": [], \"label\": []}\n",
    "    label2id = {label: idx for idx, label in enumerate(os.listdir(data_dir))}\n",
    "    id2label = {idx: label for label, idx in label2id.items()}\n",
    "    supported_extensions = ['.jpg', '.jpeg', '.png', '.bmp']\n",
    "\n",
    "    for label in os.listdir(data_dir):\n",
    "        class_dir = os.path.join(data_dir, label)\n",
    "        if not os.path.isdir(class_dir):\n",
    "            continue\n",
    "\n",
    "        for file_name in os.listdir(class_dir):\n",
    "            if any(file_name.lower().endswith(ext) for ext in supported_extensions):\n",
    "                img_path = os.path.join(class_dir, file_name)\n",
    "                try:\n",
    "                    image = PILImage.open(img_path).convert(\"RGB\")\n",
    "                    data[\"image\"].append(image)\n",
    "                    data[\"label\"].append(label2id[label])\n",
    "                except Exception as e:\n",
    "                    print(f\"Error loading image {img_path}: {e}\")\n",
    "\n",
    "    return data, label2id, id2label\n",
    "\n",
    "print(\"Загрузка данных...\")\n",
    "data, label2id, id2label = load_data(data_dir)\n",
    "print(f\"label2id: {label2id}\")\n",
    "print(f\"Загружено {len(data['image'])} изображений\")\n",
    "\n",
    "def preprocess_images(data, batch_size=64):\n",
    "    dataset_size = len(data['image'])\n",
    "    pixel_values = []\n",
    "    labels = []\n",
    "\n",
    "    for i in range(0, dataset_size, batch_size):\n",
    "        batch_images = data['image'][i:i + batch_size]\n",
    "        images = [image.convert(\"RGB\") if isinstance(image, PILImage.Image) else PILImage.fromarray(image).convert(\"RGB\") for image in batch_images]\n",
    "        inputs = processor(images=images, return_tensors=\"pt\")\n",
    "        pixel_values.append(inputs[\"pixel_values\"])\n",
    "        labels.append(torch.tensor(data[\"label\"][i:i + batch_size]))\n",
    "\n",
    "    pixel_values = torch.cat(pixel_values)\n",
    "    labels = torch.cat(labels)\n",
    "    return {\"pixel_values\": pixel_values, \"label\": labels}\n",
    "\n",
    "print(\"Преобразование данных...\")\n",
    "processed_data = preprocess_images(data)\n",
    "print(\"Данные преобразованы\")\n",
    "\n",
    "class CustomDataset(torch.utils.data.Dataset):\n",
    "    def __init__(self, encodings):\n",
    "        self.encodings = encodings\n",
    "\n",
    "    def __len__(self):\n",
    "        return len(self.encodings[\"pixel_values\"])\n",
    "\n",
    "    def __getitem__(self, idx):\n",
    "        item = {key: val[idx] for key, val in self.encodings.items()}\n",
    "        return item\n",
    "\n",
    "print(\"Создание датасета...\")\n",
    "dataset = CustomDataset(processed_data)\n",
    "print(\"Датасет создан\")"
   ]
  },
  {
   "cell_type": "code",
   "execution_count": 5,
   "id": "fe27d36f-4047-4cd4-9f2f-572ecc49bd21",
   "metadata": {
    "tags": []
   },
   "outputs": [
    {
     "data": {
      "text/plain": [
       "(<torch.utils.data.dataset.Subset at 0x10e8b4310>,\n",
       " <torch.utils.data.dataset.Subset at 0x10fa22010>)"
      ]
     },
     "execution_count": 5,
     "metadata": {},
     "output_type": "execute_result"
    }
   ],
   "source": [
    "train_size = int(0.8 * len(dataset))\n",
    "test_size = len(dataset) - train_size\n",
    "train_dataset, test_dataset = torch.utils.data.random_split(dataset, [train_size, test_size])\n",
    "train_dataset, test_dataset"
   ]
  },
  {
   "cell_type": "code",
   "execution_count": 6,
   "id": "13f90180-0a28-4dde-b296-c1e256219a9e",
   "metadata": {
    "tags": []
   },
   "outputs": [
    {
     "name": "stdout",
     "output_type": "stream",
     "text": [
      "Создание модели...\n"
     ]
    },
    {
     "name": "stderr",
     "output_type": "stream",
     "text": [
      "Some weights of ViTForImageClassification were not initialized from the model checkpoint at google/vit-base-patch16-224-in21k and are newly initialized: ['classifier.bias', 'classifier.weight']\n",
      "You should probably TRAIN this model on a down-stream task to be able to use it for predictions and inference.\n"
     ]
    }
   ],
   "source": [
    "print(\"Создание модели...\")\n",
    "model = ViTForImageClassification.from_pretrained('google/vit-base-patch16-224-in21k', num_labels=len(label2id))\n",
    "model.config.label2id = label2id\n",
    "model.config.id2label = id2label"
   ]
  },
  {
   "cell_type": "code",
   "execution_count": 7,
   "id": "fe8965b4-2888-4c62-95a1-3e523f52660d",
   "metadata": {
    "tags": []
   },
   "outputs": [
    {
     "name": "stdout",
     "output_type": "stream",
     "text": [
      "Параметры обучения...\n",
      "Параметры обучения установлены\n"
     ]
    }
   ],
   "source": [
    "print(\"Параметры обучения...\")\n",
    "training_args = TrainingArguments(\n",
    "    output_dir='./results',\n",
    "    per_device_train_batch_size=32,\n",
    "    per_device_eval_batch_size=64,\n",
    "    num_train_epochs=3, # Эпохи тут\n",
    "    learning_rate=5e-5,\n",
    "    evaluation_strategy=\"epoch\",\n",
    "    save_strategy=\"epoch\",\n",
    "    remove_unused_columns=False,\n",
    "    push_to_hub=False,\n",
    "    load_best_model_at_end=True,\n",
    "    weight_decay=0.01,\n",
    "    logging_dir='./logs',\n",
    "    logging_steps=500,\n",
    "    save_total_limit=3,\n",
    ")\n",
    "\n",
    "print(\"Параметры обучения установлены\")"
   ]
  },
  {
   "cell_type": "code",
   "execution_count": 8,
   "id": "7fb1544b-5982-44e4-bf62-879db60d3594",
   "metadata": {
    "tags": []
   },
   "outputs": [
    {
     "name": "stderr",
     "output_type": "stream",
     "text": [
      "/var/folders/z_/9vxzk9_904qgqdx7qt3r1q4r0000gn/T/ipykernel_18409/1806585331.py:1: FutureWarning: load_metric is deprecated and will be removed in the next major version of datasets. Use 'evaluate.load' instead, from the new library 🤗 Evaluate: https://huggingface.co/docs/evaluate\n",
      "  metric = load_metric(\"accuracy\")\n"
     ]
    }
   ],
   "source": [
    "metric = load_metric(\"accuracy\")\n",
    "\n",
    "def compute_metrics(p):\n",
    "    return metric.compute(predictions=p.predictions.argmax(-1), references=p.label_ids)"
   ]
  },
  {
   "cell_type": "code",
   "execution_count": 9,
   "id": "3229b3da-d084-413c-8f35-cff4e4737e47",
   "metadata": {
    "tags": []
   },
   "outputs": [
    {
     "name": "stdout",
     "output_type": "stream",
     "text": [
      "Создание тренера...\n",
      "Тренер создан\n"
     ]
    },
    {
     "name": "stderr",
     "output_type": "stream",
     "text": [
      "/Users/s4meone/anaconda3/lib/python3.11/site-packages/accelerate/accelerator.py:446: FutureWarning: Passing the following arguments to `Accelerator` is deprecated and will be removed in version 1.0 of Accelerate: dict_keys(['dispatch_batches']). Please pass an `accelerate.DataLoaderConfiguration` instead: \n",
      "dataloader_config = DataLoaderConfiguration(dispatch_batches=None)\n",
      "  warnings.warn(\n"
     ]
    }
   ],
   "source": [
    "print(\"Создание тренера...\")\n",
    "# Создание тренера\n",
    "trainer = Trainer(\n",
    "    model=model,\n",
    "    args=training_args,\n",
    "    train_dataset=train_dataset,\n",
    "    eval_dataset=test_dataset,\n",
    "    compute_metrics=compute_metrics,\n",
    ")\n",
    "print(\"Тренер создан\")"
   ]
  },
  {
   "cell_type": "code",
   "execution_count": null,
   "id": "c38ce370-b105-49fe-9438-d6fff7ea10f6",
   "metadata": {
    "tags": []
   },
   "outputs": [
    {
     "name": "stdout",
     "output_type": "stream",
     "text": [
      "Начало обучения...\n"
     ]
    },
    {
     "data": {
      "text/html": [
       "\n",
       "    <div>\n",
       "      \n",
       "      <progress value='1963' max='1962' style='width:300px; height:20px; vertical-align: middle;'></progress>\n",
       "      [1962/1962 40:23, Epoch 3/3]\n",
       "    </div>\n",
       "    <table border=\"1\" class=\"dataframe\">\n",
       "  <thead>\n",
       " <tr style=\"text-align: left;\">\n",
       "      <th>Epoch</th>\n",
       "      <th>Training Loss</th>\n",
       "      <th>Validation Loss</th>\n",
       "      <th>Accuracy</th>\n",
       "    </tr>\n",
       "  </thead>\n",
       "  <tbody>\n",
       "    <tr>\n",
       "      <td>1</td>\n",
       "      <td>0.418200</td>\n",
       "      <td>0.084072</td>\n",
       "      <td>0.988719</td>\n",
       "    </tr>\n",
       "    <tr>\n",
       "      <td>2</td>\n",
       "      <td>0.061200</td>\n",
       "      <td>0.047889</td>\n",
       "      <td>0.990440</td>\n",
       "    </tr>\n",
       "  </tbody>\n",
       "</table><p>\n",
       "    <div>\n",
       "      \n",
       "      <progress value='77' max='82' style='width:300px; height:20px; vertical-align: middle;'></progress>\n",
       "      [77/82 00:59 < 00:03, 1.28 it/s]\n",
       "    </div>\n",
       "    "
      ],
      "text/plain": [
       "<IPython.core.display.HTML object>"
      ]
     },
     "metadata": {},
     "output_type": "display_data"
    }
   ],
   "source": [
    "print(\"Начало обучения...\")\n",
    "trainer.train()\n",
    "print(\"Обучение завершено\")"
   ]
  },
  {
   "cell_type": "code",
   "execution_count": null,
   "id": "a49e2e36-ff36-4dfa-ab7e-25f058a551db",
   "metadata": {},
   "outputs": [],
   "source": []
  }
 ],
 "metadata": {
  "kernelspec": {
   "display_name": "Python 3 (ipykernel)",
   "language": "python",
   "name": "python3"
  },
  "language_info": {
   "codemirror_mode": {
    "name": "ipython",
    "version": 3
   },
   "file_extension": ".py",
   "mimetype": "text/x-python",
   "name": "python",
   "nbconvert_exporter": "python",
   "pygments_lexer": "ipython3",
   "version": "3.11.5"
  }
 },
 "nbformat": 4,
 "nbformat_minor": 5
}
